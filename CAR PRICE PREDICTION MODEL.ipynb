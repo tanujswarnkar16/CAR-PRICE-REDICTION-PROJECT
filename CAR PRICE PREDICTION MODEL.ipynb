{
 "cells": [
  {
   "cell_type": "code",
   "execution_count": 1,
   "metadata": {},
   "outputs": [],
   "source": [
    "#importing all necessary libraries\n",
    "import pandas as pd\n",
    "import numpy as np\n",
    "import matplotlib.pyplot as plt\n",
    "import seaborn as sns\n",
    "import warnings\n",
    "warnings.filterwarnings('ignore')"
   ]
  },
  {
   "cell_type": "code",
   "execution_count": 2,
   "metadata": {},
   "outputs": [],
   "source": [
    "#load the data set\n",
    "ds=pd.read_csv(\"Used_car_price.csv\")"
   ]
  },
  {
   "cell_type": "code",
   "execution_count": 3,
   "metadata": {},
   "outputs": [
    {
     "data": {
      "text/html": [
       "<div>\n",
       "<style scoped>\n",
       "    .dataframe tbody tr th:only-of-type {\n",
       "        vertical-align: middle;\n",
       "    }\n",
       "\n",
       "    .dataframe tbody tr th {\n",
       "        vertical-align: top;\n",
       "    }\n",
       "\n",
       "    .dataframe thead th {\n",
       "        text-align: right;\n",
       "    }\n",
       "</style>\n",
       "<table border=\"1\" class=\"dataframe\">\n",
       "  <thead>\n",
       "    <tr style=\"text-align: right;\">\n",
       "      <th></th>\n",
       "      <th>Unnamed: 0</th>\n",
       "      <th>Fuel</th>\n",
       "      <th>Driven_kilometers</th>\n",
       "      <th>Num_of_owners</th>\n",
       "      <th>Transmission</th>\n",
       "      <th>Location</th>\n",
       "      <th>Name</th>\n",
       "      <th>Year</th>\n",
       "      <th>Company</th>\n",
       "      <th>Price1</th>\n",
       "    </tr>\n",
       "  </thead>\n",
       "  <tbody>\n",
       "    <tr>\n",
       "      <th>0</th>\n",
       "      <td>0</td>\n",
       "      <td>PETROL</td>\n",
       "      <td>22000.0 KM</td>\n",
       "      <td>1st</td>\n",
       "      <td>MANUAL</td>\n",
       "      <td>Baner Road, Pune</td>\n",
       "      <td>Maruti Suzuki</td>\n",
       "      <td>2008)</td>\n",
       "      <td>Maruti</td>\n",
       "      <td>1,50,000</td>\n",
       "    </tr>\n",
       "    <tr>\n",
       "      <th>1</th>\n",
       "      <td>2</td>\n",
       "      <td>PETROL</td>\n",
       "      <td>68,000 KM</td>\n",
       "      <td>1st</td>\n",
       "      <td>MANUAL</td>\n",
       "      <td>Borivali West, Mumbai</td>\n",
       "      <td>Honda City</td>\n",
       "      <td>2009)</td>\n",
       "      <td>Honda</td>\n",
       "      <td>3,49,000</td>\n",
       "    </tr>\n",
       "    <tr>\n",
       "      <th>2</th>\n",
       "      <td>3</td>\n",
       "      <td>PETROL</td>\n",
       "      <td>50000 KM</td>\n",
       "      <td>Second</td>\n",
       "      <td>MANUAL</td>\n",
       "      <td>Sahakar Colony, Pune</td>\n",
       "      <td>Maruti Suzuki</td>\n",
       "      <td>2010)</td>\n",
       "      <td>Maruti</td>\n",
       "      <td>1,50,000</td>\n",
       "    </tr>\n",
       "    <tr>\n",
       "      <th>3</th>\n",
       "      <td>4</td>\n",
       "      <td>PETROL</td>\n",
       "      <td>10000 KM</td>\n",
       "      <td>First</td>\n",
       "      <td>MANUAL</td>\n",
       "      <td>Ravet, Pune</td>\n",
       "      <td>Maruti Suzuki</td>\n",
       "      <td>2016)</td>\n",
       "      <td>Maruti</td>\n",
       "      <td>3,25,000</td>\n",
       "    </tr>\n",
       "    <tr>\n",
       "      <th>4</th>\n",
       "      <td>5</td>\n",
       "      <td>DIESEL</td>\n",
       "      <td>51000.0 KM</td>\n",
       "      <td>1st</td>\n",
       "      <td>MANUAL</td>\n",
       "      <td>Vithalwadi, Thane</td>\n",
       "      <td>Mahindra Xuv500</td>\n",
       "      <td>2013)</td>\n",
       "      <td>Mahindra</td>\n",
       "      <td>6,90,000</td>\n",
       "    </tr>\n",
       "    <tr>\n",
       "      <th>5</th>\n",
       "      <td>6</td>\n",
       "      <td>DIESEL</td>\n",
       "      <td>51000.0 KM</td>\n",
       "      <td>1st</td>\n",
       "      <td>MANUAL</td>\n",
       "      <td>Panvel, Navi Mumbai</td>\n",
       "      <td>Mahindra Scorpio</td>\n",
       "      <td>2019)</td>\n",
       "      <td>Mahindra</td>\n",
       "      <td>16,80,000</td>\n",
       "    </tr>\n",
       "    <tr>\n",
       "      <th>6</th>\n",
       "      <td>7</td>\n",
       "      <td>PETROL</td>\n",
       "      <td>43000.0 KM</td>\n",
       "      <td>1st</td>\n",
       "      <td>MANUAL</td>\n",
       "      <td>Bandra West, Mumbai</td>\n",
       "      <td>Honda City</td>\n",
       "      <td>2014)</td>\n",
       "      <td>Honda</td>\n",
       "      <td>4,65,000</td>\n",
       "    </tr>\n",
       "    <tr>\n",
       "      <th>7</th>\n",
       "      <td>8</td>\n",
       "      <td>PETROL</td>\n",
       "      <td>38000.0 KM</td>\n",
       "      <td>1st</td>\n",
       "      <td>MANUAL</td>\n",
       "      <td>Thane West, Thane</td>\n",
       "      <td>Honda Wr-V</td>\n",
       "      <td>2018)</td>\n",
       "      <td>Honda</td>\n",
       "      <td>7,95,000</td>\n",
       "    </tr>\n",
       "    <tr>\n",
       "      <th>8</th>\n",
       "      <td>9</td>\n",
       "      <td>NaN</td>\n",
       "      <td>31000.0 KM</td>\n",
       "      <td>1st</td>\n",
       "      <td>NaN</td>\n",
       "      <td>Nandanvan, Nagpur</td>\n",
       "      <td>Hyundai I10</td>\n",
       "      <td>2012)</td>\n",
       "      <td>Hyundai</td>\n",
       "      <td>2,50,000</td>\n",
       "    </tr>\n",
       "    <tr>\n",
       "      <th>9</th>\n",
       "      <td>10</td>\n",
       "      <td>PETROL</td>\n",
       "      <td>58000.0 KM</td>\n",
       "      <td>1st</td>\n",
       "      <td>NaN</td>\n",
       "      <td>Nandanvan, Nagpur</td>\n",
       "      <td>Hyundai I10</td>\n",
       "      <td>2010)</td>\n",
       "      <td>Hyundai</td>\n",
       "      <td>2,30,000</td>\n",
       "    </tr>\n",
       "  </tbody>\n",
       "</table>\n",
       "</div>"
      ],
      "text/plain": [
       "   Unnamed: 0    Fuel Driven_kilometers Num_of_owners Transmission  \\\n",
       "0           0  PETROL        22000.0 KM           1st       MANUAL   \n",
       "1           2  PETROL         68,000 KM           1st       MANUAL   \n",
       "2           3  PETROL          50000 KM        Second       MANUAL   \n",
       "3           4  PETROL          10000 KM         First       MANUAL   \n",
       "4           5  DIESEL        51000.0 KM           1st       MANUAL   \n",
       "5           6  DIESEL        51000.0 KM           1st       MANUAL   \n",
       "6           7  PETROL        43000.0 KM           1st       MANUAL   \n",
       "7           8  PETROL        38000.0 KM           1st       MANUAL   \n",
       "8           9     NaN        31000.0 KM           1st          NaN   \n",
       "9          10  PETROL        58000.0 KM           1st          NaN   \n",
       "\n",
       "                Location              Name   Year   Company      Price1  \n",
       "0       Baner Road, Pune     Maruti Suzuki  2008)    Maruti    1,50,000  \n",
       "1  Borivali West, Mumbai        Honda City  2009)     Honda    3,49,000  \n",
       "2   Sahakar Colony, Pune     Maruti Suzuki  2010)    Maruti    1,50,000  \n",
       "3            Ravet, Pune     Maruti Suzuki  2016)    Maruti    3,25,000  \n",
       "4      Vithalwadi, Thane   Mahindra Xuv500  2013)  Mahindra    6,90,000  \n",
       "5    Panvel, Navi Mumbai  Mahindra Scorpio  2019)  Mahindra   16,80,000  \n",
       "6    Bandra West, Mumbai        Honda City  2014)     Honda    4,65,000  \n",
       "7      Thane West, Thane        Honda Wr-V  2018)     Honda    7,95,000  \n",
       "8      Nandanvan, Nagpur       Hyundai I10  2012)   Hyundai    2,50,000  \n",
       "9      Nandanvan, Nagpur       Hyundai I10  2010)   Hyundai    2,30,000  "
      ]
     },
     "execution_count": 3,
     "metadata": {},
     "output_type": "execute_result"
    }
   ],
   "source": [
    "ds.head(10)"
   ]
  },
  {
   "cell_type": "code",
   "execution_count": 4,
   "metadata": {},
   "outputs": [
    {
     "data": {
      "text/plain": [
       "(5826, 10)"
      ]
     },
     "execution_count": 4,
     "metadata": {},
     "output_type": "execute_result"
    }
   ],
   "source": [
    "#checking shape of the data set\n",
    "ds.shape"
   ]
  },
  {
   "cell_type": "markdown",
   "metadata": {},
   "source": [
    "This dataset have 10 columns and 5826 rows"
   ]
  },
  {
   "cell_type": "code",
   "execution_count": 5,
   "metadata": {},
   "outputs": [
    {
     "data": {
      "text/plain": [
       "Index(['Unnamed: 0', 'Fuel', 'Driven_kilometers', 'Num_of_owners',\n",
       "       'Transmission', 'Location', 'Name', 'Year', 'Company', 'Price1'],\n",
       "      dtype='object')"
      ]
     },
     "execution_count": 5,
     "metadata": {},
     "output_type": "execute_result"
    }
   ],
   "source": [
    "#COLUMNS NAME\n",
    "ds.columns"
   ]
  },
  {
   "cell_type": "code",
   "execution_count": 6,
   "metadata": {},
   "outputs": [
    {
     "data": {
      "text/plain": [
       "Unnamed: 0            int64\n",
       "Fuel                 object\n",
       "Driven_kilometers    object\n",
       "Num_of_owners        object\n",
       "Transmission         object\n",
       "Location             object\n",
       "Name                 object\n",
       "Year                 object\n",
       "Company              object\n",
       "Price1               object\n",
       "dtype: object"
      ]
     },
     "execution_count": 6,
     "metadata": {},
     "output_type": "execute_result"
    }
   ],
   "source": [
    "#DTYPES OF COLUMNS\n",
    "ds.dtypes"
   ]
  },
  {
   "cell_type": "markdown",
   "metadata": {},
   "source": [
    "Driven_kilometers, Num_of_owners, Location, Fuel, Transmission, Name, Year, Company, Price1 are object type features"
   ]
  },
  {
   "cell_type": "code",
   "execution_count": 7,
   "metadata": {},
   "outputs": [
    {
     "data": {
      "text/plain": [
       "Unnamed: 0             0\n",
       "Fuel                  65\n",
       "Driven_kilometers      4\n",
       "Num_of_owners        139\n",
       "Transmission         128\n",
       "Location               4\n",
       "Name                   0\n",
       "Year                   0\n",
       "Company                0\n",
       "Price1                 4\n",
       "dtype: int64"
      ]
     },
     "execution_count": 7,
     "metadata": {},
     "output_type": "execute_result"
    }
   ],
   "source": [
    "#CHECKING NULL VALUES\n",
    "ds.isnull().sum()"
   ]
  },
  {
   "cell_type": "markdown",
   "metadata": {},
   "source": [
    "Data set have missing values. Target variable also has missing values, so there is need to drop that rows which have missing values in price"
   ]
  },
  {
   "cell_type": "code",
   "execution_count": 8,
   "metadata": {},
   "outputs": [],
   "source": [
    "#creating dataframe \n",
    "df=pd.DataFrame(ds)"
   ]
  },
  {
   "cell_type": "code",
   "execution_count": 9,
   "metadata": {},
   "outputs": [],
   "source": [
    "#select only those rows which don't have missing values in variables and dropping unnecessary column\n",
    "df=df[df['Price1'].notna()]\n",
    "df=df[df['Num_of_owners'].notna()]\n",
    "df.drop(\"Unnamed: 0\",axis=1,inplace=True)"
   ]
  },
  {
   "cell_type": "code",
   "execution_count": 10,
   "metadata": {},
   "outputs": [
    {
     "data": {
      "text/plain": [
       "(5687, 9)"
      ]
     },
     "execution_count": 10,
     "metadata": {},
     "output_type": "execute_result"
    }
   ],
   "source": [
    "#SHAPE OF DATAFRAME\n",
    "df.shape"
   ]
  },
  {
   "cell_type": "code",
   "execution_count": 11,
   "metadata": {},
   "outputs": [],
   "source": [
    "#filling missing values\n",
    "df['Fuel']=df['Fuel'].fillna(df['Fuel'].mode()[0])\n",
    "df['Transmission']=df['Transmission'].fillna(df['Transmission'].mode()[0])\n",
    "df['Location']=df['Location'].fillna(df['Transmission'].mode()[0])"
   ]
  },
  {
   "cell_type": "markdown",
   "metadata": {},
   "source": [
    "The features Fuel ,Transmission ,Location and Num_of_owners having null values so I have used mode value to replace null value The features having null values are string type so I have replaced with mode value."
   ]
  },
  {
   "cell_type": "code",
   "execution_count": 12,
   "metadata": {},
   "outputs": [
    {
     "data": {
      "text/plain": [
       "Fuel                 0\n",
       "Driven_kilometers    0\n",
       "Num_of_owners        0\n",
       "Transmission         0\n",
       "Location             0\n",
       "Name                 0\n",
       "Year                 0\n",
       "Company              0\n",
       "Price1               0\n",
       "dtype: int64"
      ]
     },
     "execution_count": 12,
     "metadata": {},
     "output_type": "execute_result"
    }
   ],
   "source": [
    "df.isnull().sum()"
   ]
  },
  {
   "cell_type": "markdown",
   "metadata": {},
   "source": [
    "no null values"
   ]
  },
  {
   "cell_type": "code",
   "execution_count": 13,
   "metadata": {},
   "outputs": [
    {
     "data": {
      "text/plain": [
       "Maruti           1780\n",
       "Hyundai           994\n",
       "Mahindra          569\n",
       "Honda             371\n",
       "Tata              354\n",
       "Toyota            318\n",
       "Ford              204\n",
       "Renault           156\n",
       "Volkswagen        151\n",
       "Chevrolet         120\n",
       "Skoda             106\n",
       "Mercedes-Benz      94\n",
       "Bmw                93\n",
       "Audi               66\n",
       "Nissan             52\n",
       "Other              37\n",
       "Fiat               31\n",
       "Jaguar             22\n",
       "Land               19\n",
       "Jeep               18\n",
       "Kia                17\n",
       "Bajaj              13\n",
       "Mitsubishi         12\n",
       "Mg                 10\n",
       "Datsun             10\n",
       "Mercedes            9\n",
       "Porsche             9\n",
       "Ashok               8\n",
       "Volvo               8\n",
       "Mini                7\n",
       "Force               7\n",
       "Ambassador          6\n",
       "Isuzu               4\n",
       "Ssangyong           2\n",
       "Hindustan           2\n",
       "Eicher              1\n",
       "Dc                  1\n",
       "Opel                1\n",
       "Maserati            1\n",
       "Mazda               1\n",
       "Citroen             1\n",
       "Conquest            1\n",
       "Bentley             1\n",
       "Name: Company, dtype: int64"
      ]
     },
     "execution_count": 13,
     "metadata": {},
     "output_type": "execute_result"
    }
   ],
   "source": [
    "#Comany column\n",
    "df['Company'].value_counts()"
   ]
  },
  {
   "cell_type": "markdown",
   "metadata": {},
   "source": [
    "above counting shows that company column have different values"
   ]
  },
  {
   "cell_type": "code",
   "execution_count": 14,
   "metadata": {},
   "outputs": [
    {
     "data": {
      "text/plain": [
       "Maruti Suzuki       1780\n",
       "Hyundai I10          180\n",
       "Honda City           162\n",
       "Toyota Innova        159\n",
       "Mahindra Bolero      157\n",
       "                    ... \n",
       "Mahindra Logan         1\n",
       "Chevrolet Others       1\n",
       "Tata Winger            1\n",
       "Volvo V40              1\n",
       "Toyota Camry           1\n",
       "Name: Name, Length: 232, dtype: int64"
      ]
     },
     "execution_count": 14,
     "metadata": {},
     "output_type": "execute_result"
    }
   ],
   "source": [
    "#COUNT VALUE BY NAME OF CARS\n",
    "df['Name'].value_counts()"
   ]
  },
  {
   "cell_type": "code",
   "execution_count": 15,
   "metadata": {},
   "outputs": [
    {
     "name": "stdout",
     "output_type": "stream",
     "text": [
      "DIESEL                            2955\n",
      "PETROL                            2405\n",
      "CNG & HYBRIDS                      164\n",
      "CNG                                 77\n",
      "LPG                                 70\n",
      "ELECTRIC                             9\n",
      "PETROL/COMPRESSED NATURAL GAS        4\n",
      "PETROL/LIQUIFIED PETROLEUM GAS       3\n",
      "Name: Fuel, dtype: int64\n"
     ]
    },
    {
     "data": {
      "text/plain": [
       "<matplotlib.axes._subplots.AxesSubplot at 0x22b231ac308>"
      ]
     },
     "execution_count": 15,
     "metadata": {},
     "output_type": "execute_result"
    },
    {
     "data": {
      "image/png": "[encoded data removed]",
      "text/plain": [
       "<Figure size 1080x720 with 1 Axes>"
      ]
     },
     "metadata": {
      "needs_background": "light"
     },
     "output_type": "display_data"
    }
   ],
   "source": [
    "#PLOT TO CHECK THE TYPE OF FUELS\n",
    "print(df['Fuel'].value_counts())\n",
    "plt.figure(figsize=(15,10))\n",
    "sns.countplot(df['Fuel'])"
   ]
  },
  {
   "cell_type": "markdown",
   "metadata": {},
   "source": [
    "Above countplot of fuel shows different values of fuel and their counting.\n"
   ]
  },
  {
   "cell_type": "markdown",
   "metadata": {},
   "source": [
    "Diesel fueled cars have the highest count "
   ]
  },
  {
   "cell_type": "code",
   "execution_count": 16,
   "metadata": {},
   "outputs": [
    {
     "name": "stdout",
     "output_type": "stream",
     "text": [
      "1st       3219\n",
      "2nd       1434\n",
      "3rd        351\n",
      "First      259\n",
      "Second     200\n",
      "Third       77\n",
      "4th         74\n",
      "4+          41\n",
      "Fourth      32\n",
      "Name: Num_of_owners, dtype: int64\n"
     ]
    },
    {
     "data": {
      "text/plain": [
       "<matplotlib.axes._subplots.AxesSubplot at 0x22b2887e488>"
      ]
     },
     "execution_count": 16,
     "metadata": {},
     "output_type": "execute_result"
    },
    {
     "data": {
      "image/png": "[encoded data removed]",
      "text/plain": [
       "<Figure size 1080x720 with 1 Axes>"
      ]
     },
     "metadata": {
      "needs_background": "light"
     },
     "output_type": "display_data"
    }
   ],
   "source": [
    "#PLOT TO SHOW THE NUMBER OF OWNERS\n",
    "print(df['Num_of_owners'].value_counts())\n",
    "plt.figure(figsize=(15,10))\n",
    "sns.countplot(df['Num_of_owners'])"
   ]
  },
  {
   "cell_type": "markdown",
   "metadata": {},
   "source": [
    "Above countplot shows different values of num_of_owners column"
   ]
  },
  {
   "cell_type": "code",
   "execution_count": 17,
   "metadata": {},
   "outputs": [
    {
     "name": "stdout",
     "output_type": "stream",
     "text": [
      "MANUAL       4623\n",
      "AUTOMATIC    1064\n",
      "Name: Transmission, dtype: int64\n"
     ]
    },
    {
     "data": {
      "text/plain": [
       "<matplotlib.axes._subplots.AxesSubplot at 0x22b288e4508>"
      ]
     },
     "execution_count": 17,
     "metadata": {},
     "output_type": "execute_result"
    },
    {
     "data": {
      "image/png": "[encoded data removed]",
      "text/plain": [
       "<Figure size 720x360 with 1 Axes>"
      ]
     },
     "metadata": {
      "needs_background": "light"
     },
     "output_type": "display_data"
    }
   ],
   "source": [
    "#PLOT TO SHOW THE TYPE OF TRANSMISSION\n",
    "print(df['Transmission'].value_counts())\n",
    "plt.figure(figsize=(10,5))\n",
    "sns.countplot(df['Transmission'])"
   ]
  },
  {
   "cell_type": "markdown",
   "metadata": {},
   "source": [
    "Above countplot shows that how many cars have manual transmission or automatic transmission and some cars have no info"
   ]
  },
  {
   "cell_type": "code",
   "execution_count": 18,
   "metadata": {},
   "outputs": [
    {
     "data": {
      "text/plain": [
       "2014)      550\n",
       "2012)      518\n",
       "2016)      505\n",
       "2015)      503\n",
       "2013)      493\n",
       "2017)      446\n",
       "2018)      431\n",
       "2011)      418\n",
       "2010)      319\n",
       "2019)      317\n",
       "2009)      231\n",
       "2008)      207\n",
       "2020)      171\n",
       "2007)      156\n",
       "2021)       96\n",
       "2006)       82\n",
       "2005)       56\n",
       "2004)       52\n",
       "2003)       37\n",
       "2002)       23\n",
       "2000)       16\n",
       "2001)       12\n",
       "1999)       11\n",
       "1997)        6\n",
       "1998)        6\n",
       "1995)        4\n",
       "1984)        2\n",
       "1978)        2\n",
       "1989)        2\n",
       "1900)        1\n",
       "2009.0)      1\n",
       "1985)        1\n",
       "2013.0)      1\n",
       "1957)        1\n",
       "2007.0)      1\n",
       "1986)        1\n",
       "1996)        1\n",
       "2015.0)      1\n",
       "1990)        1\n",
       "1987)        1\n",
       "1988)        1\n",
       "1992)        1\n",
       "1980)        1\n",
       "1976)        1\n",
       "Name: Year, dtype: int64"
      ]
     },
     "execution_count": 18,
     "metadata": {},
     "output_type": "execute_result"
    }
   ],
   "source": [
    "#year column gives info about when car is purchased\n",
    "df['Year'].value_counts()"
   ]
  },
  {
   "cell_type": "markdown",
   "metadata": {},
   "source": [
    "The above count shows the no of cars sold in perticuler year\n",
    "\n",
    "1. In 2014 the no of cars sold the highest while years from late 2000s shows the lowest sale"
   ]
  },
  {
   "cell_type": "code",
   "execution_count": 19,
   "metadata": {},
   "outputs": [
    {
     "data": {
      "text/plain": [
       " 2,50,000    97\n",
       " 3,25,000    88\n",
       " 4,50,000    78\n",
       " 3,50,000    78\n",
       " 6,50,000    76\n",
       "             ..\n",
       " 3,45,500     1\n",
       " 2,42,000     1\n",
       " 79,500       1\n",
       " 5,52,000     1\n",
       " 89,500       1\n",
       "Name: Price1, Length: 800, dtype: int64"
      ]
     },
     "execution_count": 19,
     "metadata": {},
     "output_type": "execute_result"
    }
   ],
   "source": [
    "df['Price1'].value_counts()"
   ]
  },
  {
   "cell_type": "markdown",
   "metadata": {},
   "source": [
    "Cars with range from 2 lacs to 6 lacs have highest count"
   ]
  },
  {
   "cell_type": "code",
   "execution_count": 20,
   "metadata": {},
   "outputs": [
    {
     "data": {
      "text/plain": [
       "0       150000.0\n",
       "1       349000.0\n",
       "2       150000.0\n",
       "3       325000.0\n",
       "4       690000.0\n",
       "          ...   \n",
       "5821    600000.0\n",
       "5822    190000.0\n",
       "5823     70000.0\n",
       "5824    145000.0\n",
       "5825    115000.0\n",
       "Name: Price1, Length: 5687, dtype: float64"
      ]
     },
     "execution_count": 20,
     "metadata": {},
     "output_type": "execute_result"
    }
   ],
   "source": [
    "#REMOVING EXCESS INFO AND CONVERTING PRICE INTO FLOAT VALUES\n",
    "df['Price1']=df['Price1'].str.replace(\",\",'')\n",
    "df['Price1']=df['Price1'].apply(lambda x: float(x))\n",
    "df['Price1']"
   ]
  },
  {
   "cell_type": "markdown",
   "metadata": {},
   "source": [
    "as the price values should be numeric type but in data set it is of object type, so we need to convert it into float form. First replace comma(,) by bank space and then convert it into format(float)"
   ]
  },
  {
   "cell_type": "code",
   "execution_count": 21,
   "metadata": {},
   "outputs": [
    {
     "data": {
      "text/plain": [
       "0        22000\n",
       "1        68000\n",
       "2        50000\n",
       "3        10000\n",
       "4        51000\n",
       "         ...  \n",
       "5821    107500\n",
       "5822        15\n",
       "5823     61000\n",
       "5824     60000\n",
       "5825     65000\n",
       "Name: Driven_kilometers, Length: 5687, dtype: int32"
      ]
     },
     "execution_count": 21,
     "metadata": {},
     "output_type": "execute_result"
    }
   ],
   "source": [
    "#SPLITTING EXCESS INFO AND CONVERTION TO FLOAT DTYPE\n",
    "df['Driven_kilometers']=df['Driven_kilometers'].str.split(\" \").str.get(0).str.replace(\",\",'')\n",
    "df['Driven_kilometers']=df['Driven_kilometers'].str.split(\".\").str.get(0)\n",
    "df['Driven_kilometers']=df['Driven_kilometers'].fillna(0)\n",
    "df['Driven_kilometers']=df['Driven_kilometers'].astype(int)\n",
    "df['Driven_kilometers']"
   ]
  },
  {
   "cell_type": "code",
   "execution_count": 22,
   "metadata": {},
   "outputs": [
    {
     "data": {
      "text/plain": [
       "0        22000.0\n",
       "1        68000.0\n",
       "2        50000.0\n",
       "3        10000.0\n",
       "4        51000.0\n",
       "          ...   \n",
       "5821    107500.0\n",
       "5822        15.0\n",
       "5823     61000.0\n",
       "5824     60000.0\n",
       "5825     65000.0\n",
       "Name: Driven_kilometers, Length: 5687, dtype: float64"
      ]
     },
     "execution_count": 22,
     "metadata": {},
     "output_type": "execute_result"
    }
   ],
   "source": [
    "df['Driven_kilometers']=df['Driven_kilometers'].apply(lambda x: float(x))\n",
    "df['Driven_kilometers']"
   ]
  },
  {
   "cell_type": "markdown",
   "metadata": {},
   "source": [
    "Driven_kilometer column gives info about how many kilometers car has been driven, so it should be in float format, First split values and replace special characters and commas and then convert it into float type"
   ]
  },
  {
   "cell_type": "code",
   "execution_count": 23,
   "metadata": {},
   "outputs": [],
   "source": [
    "#SPLITTING EXCESS VALUE AND CONVERTING TO INT DTYPES\n",
    "df['Year']=df['Year'].str.replace(\")\",'')\n",
    "df['Year']=df['Year'].str.replace(\".\",'')\n",
    "df['Year']=df['Year'].astype(int)"
   ]
  },
  {
   "cell_type": "markdown",
   "metadata": {},
   "source": [
    "In year column, some signs are present so replaced that with blank space and convert it into numeric data."
   ]
  },
  {
   "cell_type": "code",
   "execution_count": 24,
   "metadata": {},
   "outputs": [],
   "source": [
    "df['Num_of_owners']=df['Num_of_owners'].replace('1st',1)\n",
    "df['Num_of_owners']=df['Num_of_owners'].replace('1st Owner',1)\n",
    "df['Num_of_owners']=df['Num_of_owners'].replace('First',1)\n",
    "df['Num_of_owners']=df['Num_of_owners'].replace('2nd',2)\n",
    "df['Num_of_owners']=df['Num_of_owners'].replace('2nd Owner',2)\n",
    "df['Num_of_owners']=df['Num_of_owners'].replace('Second',2)\n",
    "df['Num_of_owners']=df['Num_of_owners'].replace('3rd',3)\n",
    "df['Num_of_owners']=df['Num_of_owners'].replace('3rd Owner',3)\n",
    "df['Num_of_owners']=df['Num_of_owners'].replace('Third',3)\n",
    "df['Num_of_owners']=df['Num_of_owners'].replace('4th',4)\n",
    "df['Num_of_owners']=df['Num_of_owners'].replace('4+',5)\n",
    "df['Num_of_owners']=df['Num_of_owners'].replace('4th Owner',4)\n",
    "df['Num_of_owners']=df['Num_of_owners'].replace('Fourth',4)"
   ]
  },
  {
   "cell_type": "markdown",
   "metadata": {},
   "source": [
    "NUm_of_owners tells how many peoples used car so convert this column into numeric type. map values 1st,1st Owner,First to 1 map values 2nd,2nd Owner,Second, to 2 map values 3rd,3rd Owner,Third to 3 map values 4th,'4th Owner,Fourth to 4 map values 4+ to 5"
   ]
  },
  {
   "cell_type": "code",
   "execution_count": 25,
   "metadata": {},
   "outputs": [
    {
     "data": {
      "text/plain": [
       "<matplotlib.axes._subplots.AxesSubplot at 0x22b28e96d48>"
      ]
     },
     "execution_count": 25,
     "metadata": {},
     "output_type": "execute_result"
    },
    {
     "data": {
      "image/png": "[encoded data removed]",
      "text/plain": [
       "<Figure size 2160x720 with 1 Axes>"
      ]
     },
     "metadata": {
      "needs_background": "light"
     },
     "output_type": "display_data"
    }
   ],
   "source": [
    "#PLOT TO COMPARE YEAR WITH PRICE OF CARS\n",
    "plt.figure(figsize=(30,10))\n",
    "plt.title('Year vs price')\n",
    "sns.barplot(x=df[\"Year\"],y=df[\"Price1\"],palette=\"Set2\")"
   ]
  },
  {
   "cell_type": "markdown",
   "metadata": {},
   "source": [
    "Recently bought car has high price compare to others"
   ]
  },
  {
   "cell_type": "code",
   "execution_count": 26,
   "metadata": {},
   "outputs": [
    {
     "data": {
      "text/plain": [
       "<matplotlib.axes._subplots.AxesSubplot at 0x22b28f5bac8>"
      ]
     },
     "execution_count": 26,
     "metadata": {},
     "output_type": "execute_result"
    },
    {
     "data": {
      "image/png": "[encoded data removed]",
      "text/plain": [
       "<Figure size 1440x720 with 1 Axes>"
      ]
     },
     "metadata": {
      "needs_background": "light"
     },
     "output_type": "display_data"
    }
   ],
   "source": [
    "#PLOT TO COMPARE KILOMETERS CAR DRIVEN TO PRICE OF CAR\n",
    "plt.figure(figsize=(20,10))\n",
    "plt.title('Kilometer vs price')\n",
    "sns.scatterplot(x=df[\"Driven_kilometers\"],y=df[\"Price1\"],palette=\"Set2\")"
   ]
  },
  {
   "cell_type": "markdown",
   "metadata": {},
   "source": [
    "The cars which has less kilometers driven has high value in the market"
   ]
  },
  {
   "cell_type": "code",
   "execution_count": 27,
   "metadata": {},
   "outputs": [
    {
     "data": {
      "text/plain": [
       "<matplotlib.axes._subplots.AxesSubplot at 0x22b28e84bc8>"
      ]
     },
     "execution_count": 27,
     "metadata": {},
     "output_type": "execute_result"
    },
    {
     "data": {
      "image/png": "[encoded data removed]",
      "text/plain": [
       "<Figure size 432x288 with 1 Axes>"
      ]
     },
     "metadata": {
      "needs_background": "light"
     },
     "output_type": "display_data"
    }
   ],
   "source": [
    "#PLOT TO CHECK NO. OF OWNERS TO PRICE OF CAR\n",
    "sns.barplot(x=df[\"Num_of_owners\"],y=df[\"Price1\"],palette=\"Set2\")"
   ]
  },
  {
   "cell_type": "markdown",
   "metadata": {},
   "source": [
    "if the car is from first owner it has high value"
   ]
  },
  {
   "cell_type": "code",
   "execution_count": 28,
   "metadata": {},
   "outputs": [
    {
     "data": {
      "text/plain": [
       "<matplotlib.axes._subplots.AxesSubplot at 0x22b28e843c8>"
      ]
     },
     "execution_count": 28,
     "metadata": {},
     "output_type": "execute_result"
    },
    {
     "data": {
      "image/png": "[encoded data removed]",
      "text/plain": [
       "<Figure size 1584x504 with 1 Axes>"
      ]
     },
     "metadata": {
      "needs_background": "light"
     },
     "output_type": "display_data"
    }
   ],
   "source": [
    "#PLOT TO COMPARE TYPE OF FUEL TO PRICE OF CAR\n",
    "plt.figure(figsize=(22,7))\n",
    "plt.title('Fuel vs price')\n",
    "sns.barplot(x=df[\"Fuel\"],y=df[\"Price1\"],palette=\"Set2\")"
   ]
  },
  {
   "cell_type": "markdown",
   "metadata": {},
   "source": [
    "Diesel cars and electric cars are high pricey than other fuel emissioned cars"
   ]
  },
  {
   "cell_type": "code",
   "execution_count": 29,
   "metadata": {},
   "outputs": [
    {
     "data": {
      "text/plain": [
       "<matplotlib.axes._subplots.AxesSubplot at 0x22b28f68908>"
      ]
     },
     "execution_count": 29,
     "metadata": {},
     "output_type": "execute_result"
    },
    {
     "data": {
      "image/png": "[encoded data removed]",
      "text/plain": [
       "<Figure size 432x288 with 1 Axes>"
      ]
     },
     "metadata": {
      "needs_background": "light"
     },
     "output_type": "display_data"
    }
   ],
   "source": [
    "#PLOT TO COMPARE TRANSMISSION WITH PRICE OF CAR\n",
    "sns.barplot(x=df[\"Transmission\"],y=df[\"Price1\"],palette=\"Set2\")"
   ]
  },
  {
   "cell_type": "markdown",
   "metadata": {},
   "source": [
    "Automatic cars are pricey when compare  to manual"
   ]
  },
  {
   "cell_type": "code",
   "execution_count": 30,
   "metadata": {},
   "outputs": [
    {
     "name": "stdout",
     "output_type": "stream",
     "text": [
      "(array([  24,   25,  296,  297,  321,  408,  411,  437,  449,  467,  469,\n",
      "        496,  553,  644,  706,  764,  784,  808,  966,  994, 1003, 1055,\n",
      "       1056, 1095, 1178, 1262, 1293, 1310, 1313, 1355, 1360, 1437, 1643,\n",
      "       1845, 1901, 1968, 2017, 2032, 2051, 2054, 2055, 2078, 2110, 2148,\n",
      "       2174, 2192, 2193, 2226, 2240, 2300, 2302, 2309, 2318, 2347, 2358,\n",
      "       2374, 2376, 2453, 2473, 2511, 2524, 2532, 2535, 2553, 2653, 2687,\n",
      "       2692, 2693, 2740, 2744, 2804, 2814, 2822, 2849, 3015, 3057, 3072,\n",
      "       3073, 3086, 3152, 3254, 3258, 3271, 3272, 3275, 3374, 3515, 3561,\n",
      "       3593, 3733, 3789, 3806, 4103, 4104, 4105, 4165, 4206, 4246, 4247,\n",
      "       4336, 4338, 4379, 4454, 4455, 4457, 4518, 4524, 4575, 4581, 4594,\n",
      "       4604, 4609, 4621, 4641, 4642, 4660, 4663, 4723, 4728, 4768, 4843,\n",
      "       4851], dtype=int64),)\n"
     ]
    }
   ],
   "source": [
    "#USING ZSCORE TO REMOVE OUTLIERS\n",
    "from scipy.stats import zscore\n",
    "z = np.abs(zscore(df[\"Price1\"]))\n",
    "print(np.where(z > 3))"
   ]
  },
  {
   "cell_type": "code",
   "execution_count": 31,
   "metadata": {},
   "outputs": [],
   "source": [
    "df_clean = df[(z<3)]"
   ]
  },
  {
   "cell_type": "code",
   "execution_count": 32,
   "metadata": {},
   "outputs": [
    {
     "data": {
      "text/plain": [
       "(5687, 9)"
      ]
     },
     "execution_count": 32,
     "metadata": {},
     "output_type": "execute_result"
    }
   ],
   "source": [
    "df.shape"
   ]
  },
  {
   "cell_type": "code",
   "execution_count": 33,
   "metadata": {},
   "outputs": [
    {
     "data": {
      "text/plain": [
       "(5565, 9)"
      ]
     },
     "execution_count": 33,
     "metadata": {},
     "output_type": "execute_result"
    }
   ],
   "source": [
    "df_clean.shape"
   ]
  },
  {
   "cell_type": "code",
   "execution_count": 34,
   "metadata": {},
   "outputs": [
    {
     "data": {
      "text/plain": [
       "2.145243537893441"
      ]
     },
     "execution_count": 34,
     "metadata": {},
     "output_type": "execute_result"
    }
   ],
   "source": [
    "#DIFFERENCE IN THE DATA LOSS AFTER REMOVING OUTLIERS\n",
    "((5687-5565)/5687)*100"
   ]
  },
  {
   "cell_type": "markdown",
   "metadata": {},
   "source": [
    "2.14% dataloss"
   ]
  },
  {
   "cell_type": "code",
   "execution_count": 35,
   "metadata": {},
   "outputs": [
    {
     "data": {
      "text/html": [
       "<div>\n",
       "<style scoped>\n",
       "    .dataframe tbody tr th:only-of-type {\n",
       "        vertical-align: middle;\n",
       "    }\n",
       "\n",
       "    .dataframe tbody tr th {\n",
       "        vertical-align: top;\n",
       "    }\n",
       "\n",
       "    .dataframe thead th {\n",
       "        text-align: right;\n",
       "    }\n",
       "</style>\n",
       "<table border=\"1\" class=\"dataframe\">\n",
       "  <thead>\n",
       "    <tr style=\"text-align: right;\">\n",
       "      <th></th>\n",
       "      <th>Fuel</th>\n",
       "      <th>Driven_kilometers</th>\n",
       "      <th>Num_of_owners</th>\n",
       "      <th>Transmission</th>\n",
       "      <th>Location</th>\n",
       "      <th>Name</th>\n",
       "      <th>Year</th>\n",
       "      <th>Company</th>\n",
       "      <th>Price1</th>\n",
       "    </tr>\n",
       "  </thead>\n",
       "  <tbody>\n",
       "    <tr>\n",
       "      <th>0</th>\n",
       "      <td>5</td>\n",
       "      <td>227</td>\n",
       "      <td>0</td>\n",
       "      <td>1</td>\n",
       "      <td>283</td>\n",
       "      <td>119</td>\n",
       "      <td>26</td>\n",
       "      <td>23</td>\n",
       "      <td>150000.0</td>\n",
       "    </tr>\n",
       "    <tr>\n",
       "      <th>1</th>\n",
       "      <td>5</td>\n",
       "      <td>787</td>\n",
       "      <td>0</td>\n",
       "      <td>1</td>\n",
       "      <td>455</td>\n",
       "      <td>57</td>\n",
       "      <td>27</td>\n",
       "      <td>15</td>\n",
       "      <td>349000.0</td>\n",
       "    </tr>\n",
       "    <tr>\n",
       "      <th>2</th>\n",
       "      <td>5</td>\n",
       "      <td>532</td>\n",
       "      <td>1</td>\n",
       "      <td>1</td>\n",
       "      <td>2194</td>\n",
       "      <td>119</td>\n",
       "      <td>28</td>\n",
       "      <td>23</td>\n",
       "      <td>150000.0</td>\n",
       "    </tr>\n",
       "    <tr>\n",
       "      <th>3</th>\n",
       "      <td>5</td>\n",
       "      <td>125</td>\n",
       "      <td>0</td>\n",
       "      <td>1</td>\n",
       "      <td>2138</td>\n",
       "      <td>119</td>\n",
       "      <td>34</td>\n",
       "      <td>23</td>\n",
       "      <td>325000.0</td>\n",
       "    </tr>\n",
       "    <tr>\n",
       "      <th>4</th>\n",
       "      <td>2</td>\n",
       "      <td>550</td>\n",
       "      <td>0</td>\n",
       "      <td>1</td>\n",
       "      <td>2744</td>\n",
       "      <td>117</td>\n",
       "      <td>31</td>\n",
       "      <td>22</td>\n",
       "      <td>690000.0</td>\n",
       "    </tr>\n",
       "  </tbody>\n",
       "</table>\n",
       "</div>"
      ],
      "text/plain": [
       "   Fuel  Driven_kilometers  Num_of_owners  Transmission  Location  Name  Year  \\\n",
       "0     5                227              0             1       283   119    26   \n",
       "1     5                787              0             1       455    57    27   \n",
       "2     5                532              1             1      2194   119    28   \n",
       "3     5                125              0             1      2138   119    34   \n",
       "4     2                550              0             1      2744   117    31   \n",
       "\n",
       "   Company    Price1  \n",
       "0       23  150000.0  \n",
       "1       15  349000.0  \n",
       "2       23  150000.0  \n",
       "3       23  325000.0  \n",
       "4       22  690000.0  "
      ]
     },
     "execution_count": 35,
     "metadata": {},
     "output_type": "execute_result"
    }
   ],
   "source": [
    "#LABAL ENCODING TO CONVERT CATAGORICAL VALRIABLE TO NUMERIC VARIABLES\n",
    "dff=df_clean\n",
    "col_encod=['Name','Location','Driven_kilometers','Num_of_owners','Transmission','Year','Company','Fuel']\n",
    "from sklearn import preprocessing \n",
    "for col in col_encod:\n",
    "    label = preprocessing.LabelEncoder()\n",
    "    dff[col]= label.fit_transform(df_clean[col])\n",
    "dff.head()"
   ]
  },
  {
   "cell_type": "code",
   "execution_count": 36,
   "metadata": {},
   "outputs": [
    {
     "data": {
      "text/plain": [
       "<matplotlib.axes._subplots.AxesSubplot at 0x22b28f62d88>"
      ]
     },
     "execution_count": 36,
     "metadata": {},
     "output_type": "execute_result"
    },
    {
     "data": {
      "image/png": "[encoded data removed]",
      "text/plain": [
       "<Figure size 720x720 with 2 Axes>"
      ]
     },
     "metadata": {
      "needs_background": "light"
     },
     "output_type": "display_data"
    }
   ],
   "source": [
    "#CHECKING CORRELATION\n",
    "correlation=dff.corr(method='pearson')\n",
    "plt.figure(figsize=(10,10))\n",
    "sns.heatmap(correlation,annot=True)"
   ]
  },
  {
   "cell_type": "markdown",
   "metadata": {},
   "source": [
    "1. Transmission is negatively corelated to price\n",
    "2. Year is negatively corelated to num of owner\n",
    "3. year is positively corelated to price"
   ]
  },
  {
   "cell_type": "code",
   "execution_count": 37,
   "metadata": {},
   "outputs": [],
   "source": [
    "#sepearate target variable\n",
    "x=dff.drop([\"Price1\"],axis=1)\n",
    "y1=dff['Price1']"
   ]
  },
  {
   "cell_type": "code",
   "execution_count": 38,
   "metadata": {},
   "outputs": [],
   "source": [
    "#SCALING DATA \n",
    "from sklearn.preprocessing import MinMaxScaler\n",
    "scaler=MinMaxScaler()\n",
    "scaled = scaler.fit_transform(x)"
   ]
  },
  {
   "cell_type": "code",
   "execution_count": 39,
   "metadata": {},
   "outputs": [],
   "source": [
    "from sklearn.neighbors import KNeighborsRegressor\n",
    "from sklearn.svm import SVR\n",
    "from sklearn.tree import DecisionTreeRegressor\n",
    "from sklearn.linear_model import LinearRegression\n",
    "from sklearn.linear_model import Lasso\n",
    "from sklearn.ensemble import RandomForestRegressor\n",
    "from sklearn.ensemble import GradientBoostingRegressor\n",
    "from sklearn.model_selection import train_test_split\n",
    "x=scaled\n",
    "y=y1"
   ]
  },
  {
   "cell_type": "code",
   "execution_count": 40,
   "metadata": {},
   "outputs": [],
   "source": [
    "#TRAIN TEST MODEL\n",
    "xtrain,xtest,ytrain,ytest=train_test_split(x,y,test_size=0.25,random_state=1)\n",
    "from sklearn.metrics import mean_absolute_error,mean_squared_error,r2_score\n",
    "models=[KNeighborsRegressor(),SVR(),DecisionTreeRegressor(),LinearRegression(),Lasso(),\n",
    "        RandomForestRegressor(),GradientBoostingRegressor()]\n",
    "maelist=[]\n",
    "mselist=[]\n",
    "rmselist=[]\n",
    "r2list=[]"
   ]
  },
  {
   "cell_type": "code",
   "execution_count": 41,
   "metadata": {},
   "outputs": [
    {
     "name": "stdout",
     "output_type": "stream",
     "text": [
      "KNeighborsRegressor()\n",
      "Mean absolute error 221205.86882183907\n",
      "Mean squared error 134232102037.36525\n",
      "Root Mean squared error 366376.99441608676\n",
      "R2 Score 0.33956307949173437\n",
      "---------------------------------------------------------------------------------------------------------\n",
      "SVR()\n",
      "Mean absolute error 286723.7265358489\n",
      "Mean squared error 220016985910.08374\n",
      "Root Mean squared error 469059.68267384026\n",
      "R2 Score -0.08250812159313403\n",
      "---------------------------------------------------------------------------------------------------------\n",
      "DecisionTreeRegressor()\n",
      "Mean absolute error 164276.3405172414\n",
      "Mean squared error 88777009059.83621\n",
      "Root Mean squared error 297954.709746022\n",
      "R2 Score 0.5632072091138695\n",
      "---------------------------------------------------------------------------------------------------------\n",
      "LinearRegression()\n",
      "Mean absolute error 236960.49540565678\n",
      "Mean squared error 134662666689.85312\n",
      "Root Mean squared error 366964.12180191826\n",
      "R2 Score 0.3374446533563109\n",
      "---------------------------------------------------------------------------------------------------------\n",
      "Lasso()\n",
      "Mean absolute error 236959.16615151186\n",
      "Mean squared error 134662476858.92163\n",
      "Root Mean squared error 366963.863151294\n",
      "R2 Score 0.3374455873456763\n",
      "---------------------------------------------------------------------------------------------------------\n",
      "RandomForestRegressor()\n",
      "Mean absolute error 131933.4868271073\n",
      "Mean squared error 59426389528.58196\n",
      "Root Mean squared error 243775.28490103743\n",
      "R2 Score 0.7076155323392292\n",
      "---------------------------------------------------------------------------------------------------------\n",
      "GradientBoostingRegressor()\n",
      "Mean absolute error 152724.04933950672\n",
      "Mean squared error 64177348437.6967\n",
      "Root Mean squared error 253332.48595017716\n",
      "R2 Score 0.6842402843637216\n",
      "---------------------------------------------------------------------------------------------------------\n",
      "Minimum Mean Absolute error is shown by  RandomForestRegressor() 131933.4868271073\n",
      "Minimum Mean squared error is shown by  RandomForestRegressor() 59426389528.58196\n",
      "Minimum Root Mean squared error is shown by  RandomForestRegressor() 243775.28490103743\n",
      "Maximun R2 Score is shown by  RandomForestRegressor() 0.7076155323392292\n"
     ]
    }
   ],
   "source": [
    "def create_model(model):\n",
    "    m=model\n",
    "    m.fit(xtrain,ytrain)\n",
    "    p=m.predict(xtest)\n",
    "    \n",
    "    mae=mean_absolute_error(p,ytest)\n",
    "    mse=mean_squared_error(p,ytest)\n",
    "    rmse=np.sqrt(mean_squared_error(p,ytest))\n",
    "    r2=r2_score(ytest,p)\n",
    "    \n",
    "    maelist.append(mae)\n",
    "    mselist.append(mse)\n",
    "    rmselist.append(rmse)\n",
    "    r2list.append(r2)\n",
    "    \n",
    "    print(m)\n",
    "    \n",
    "    print('Mean absolute error',mae)\n",
    "    print('Mean squared error',mse)\n",
    "    print('Root Mean squared error',rmse)\n",
    "    print('R2 Score',r2)\n",
    "    print('---------------------------------------------------------------------------------------------------------')\n",
    "for i in models:\n",
    "    create_model(i)\n",
    "print('Minimum Mean Absolute error is shown by ',models[maelist.index(min(maelist))],min(maelist))\n",
    "print('Minimum Mean squared error is shown by ',models[mselist.index(min(mselist))],min(mselist))\n",
    "print('Minimum Root Mean squared error is shown by ',models[rmselist.index(min(rmselist))],min(rmselist))\n",
    "print('Maximun R2 Score is shown by ',models[r2list.index(max(r2list))],max(r2list))"
   ]
  },
  {
   "cell_type": "code",
   "execution_count": 42,
   "metadata": {},
   "outputs": [],
   "source": [
    "#CROSS VALIDATING THE RESULT \n",
    "scorel=[]"
   ]
  },
  {
   "cell_type": "code",
   "execution_count": 43,
   "metadata": {},
   "outputs": [
    {
     "data": {
      "text/plain": [
       "array([0.41227123, 0.41468206, 0.36480239, 0.33502378, 0.23716817])"
      ]
     },
     "execution_count": 43,
     "metadata": {},
     "output_type": "execute_result"
    }
   ],
   "source": [
    "from sklearn.model_selection import cross_val_score\n",
    "k=KNeighborsRegressor()\n",
    "scores=cross_val_score(k,x,y,scoring='r2',cv=5)\n",
    "scorel.append(scores)\n",
    "scores"
   ]
  },
  {
   "cell_type": "code",
   "execution_count": 44,
   "metadata": {},
   "outputs": [
    {
     "data": {
      "text/plain": [
       "array([-0.10355259, -0.13377682, -0.08639701, -0.07333948, -0.02156721])"
      ]
     },
     "execution_count": 44,
     "metadata": {},
     "output_type": "execute_result"
    }
   ],
   "source": [
    "from sklearn.model_selection import cross_val_score\n",
    "svr=SVR()\n",
    "scores=cross_val_score(svr,x,y,scoring='r2',cv=5)\n",
    "scorel.append(scores)\n",
    "scores"
   ]
  },
  {
   "cell_type": "code",
   "execution_count": 45,
   "metadata": {},
   "outputs": [
    {
     "data": {
      "text/plain": [
       "array([0.58289687, 0.60549731, 0.65742098, 0.42505468, 0.54782489])"
      ]
     },
     "execution_count": 45,
     "metadata": {},
     "output_type": "execute_result"
    }
   ],
   "source": [
    "from sklearn.model_selection import cross_val_score\n",
    "dt=DecisionTreeRegressor()\n",
    "scores=cross_val_score(dt,x,y,scoring='r2',cv=5)\n",
    "scorel.append(scores)\n",
    "scores"
   ]
  },
  {
   "cell_type": "code",
   "execution_count": 46,
   "metadata": {},
   "outputs": [
    {
     "data": {
      "text/plain": [
       "array([0.39871933, 0.36718507, 0.38467294, 0.3195151 , 0.22247467])"
      ]
     },
     "execution_count": 46,
     "metadata": {},
     "output_type": "execute_result"
    }
   ],
   "source": [
    "from sklearn.model_selection import cross_val_score\n",
    "lr=LinearRegression()\n",
    "scores=cross_val_score(lr,x,y,scoring='r2',cv=5)\n",
    "scorel.append(scores)\n",
    "scores"
   ]
  },
  {
   "cell_type": "code",
   "execution_count": 47,
   "metadata": {},
   "outputs": [
    {
     "data": {
      "text/plain": [
       "array([0.39872315, 0.36718501, 0.3846841 , 0.3195251 , 0.22249448])"
      ]
     },
     "execution_count": 47,
     "metadata": {},
     "output_type": "execute_result"
    }
   ],
   "source": [
    "from sklearn.model_selection import cross_val_score\n",
    "l=Lasso()\n",
    "scores=cross_val_score(l,x,y,scoring='r2',cv=5)\n",
    "scorel.append(scores)\n",
    "scores"
   ]
  },
  {
   "cell_type": "code",
   "execution_count": 48,
   "metadata": {},
   "outputs": [
    {
     "data": {
      "text/plain": [
       "array([0.69991872, 0.74793929, 0.75966077, 0.71060426, 0.7061338 ])"
      ]
     },
     "execution_count": 48,
     "metadata": {},
     "output_type": "execute_result"
    }
   ],
   "source": [
    "from sklearn.model_selection import cross_val_score\n",
    "rf=RandomForestRegressor()\n",
    "scores=cross_val_score(rf,x,y,scoring='r2',cv=5)\n",
    "scorel.append(scores)\n",
    "scores"
   ]
  },
  {
   "cell_type": "code",
   "execution_count": 49,
   "metadata": {},
   "outputs": [
    {
     "data": {
      "text/plain": [
       "array([0.68919947, 0.71751836, 0.69096048, 0.70932083, 0.64509486])"
      ]
     },
     "execution_count": 49,
     "metadata": {},
     "output_type": "execute_result"
    }
   ],
   "source": [
    "from sklearn.model_selection import cross_val_score\n",
    "gb=GradientBoostingRegressor()\n",
    "scores=cross_val_score(gb,x,y,scoring='r2',cv=5)\n",
    "scorel.append(scores)\n",
    "scores"
   ]
  },
  {
   "cell_type": "code",
   "execution_count": 50,
   "metadata": {},
   "outputs": [
    {
     "name": "stdout",
     "output_type": "stream",
     "text": [
      "KNeighborsRegressor() difference is [ 0.07270815  0.07511898  0.02523932 -0.00453929 -0.10239491]\n",
      "SVR() difference is [-0.02104447 -0.0512687  -0.00388889  0.00916864  0.06094091]\n",
      "DecisionTreeRegressor() difference is [ 0.01968966  0.0422901   0.09421377 -0.13815253 -0.01538232]\n",
      "LinearRegression() difference is [ 0.06127467  0.02974041  0.04722828 -0.01792955 -0.11496998]\n",
      "Lasso() difference is [ 0.06127756  0.02973942  0.04723851 -0.01792049 -0.11495111]\n",
      "RandomForestRegressor() difference is [-0.00769681  0.04032376  0.05204523  0.00298873 -0.00148174]\n",
      "GradientBoostingRegressor() difference is [ 0.00495919  0.03327808  0.00672019  0.02508055 -0.03914542]\n"
     ]
    }
   ],
   "source": [
    "#DIFFERENCE IN ACTUAL VALUE AND PREDICTED VALUE\n",
    "models=[KNeighborsRegressor(),SVR(),DecisionTreeRegressor(),LinearRegression(),Lasso(),\n",
    "        RandomForestRegressor(),GradientBoostingRegressor()]\n",
    "for i in range(0,7):\n",
    "    print(models[i],\"difference is\",scorel[i]-r2list[i])"
   ]
  },
  {
   "cell_type": "code",
   "execution_count": 51,
   "metadata": {},
   "outputs": [
    {
     "data": {
      "text/plain": [
       "0.05600013"
      ]
     },
     "execution_count": 51,
     "metadata": {},
     "output_type": "execute_result"
    }
   ],
   "source": [
    "#KNeighborsRegressor\n",
    "(0.07270815+0.07511898+0.02523932+0.00453929+0.10239491)/5"
   ]
  },
  {
   "cell_type": "code",
   "execution_count": 52,
   "metadata": {},
   "outputs": [
    {
     "data": {
      "text/plain": [
       "0.029277852000000004"
      ]
     },
     "execution_count": 52,
     "metadata": {},
     "output_type": "execute_result"
    }
   ],
   "source": [
    "#SVR()\n",
    "(0.02104359+0.05125741+0.00390197+0.00921552+0.06097077)/5"
   ]
  },
  {
   "cell_type": "code",
   "execution_count": 53,
   "metadata": {},
   "outputs": [
    {
     "data": {
      "text/plain": [
       "0.06793397"
      ]
     },
     "execution_count": 53,
     "metadata": {},
     "output_type": "execute_result"
    }
   ],
   "source": [
    "#DecisionTreeRegressor\n",
    "(0.04083771+0.03867193+0.12041043+0.13396151+0.00578827)/5"
   ]
  },
  {
   "cell_type": "code",
   "execution_count": 54,
   "metadata": {},
   "outputs": [
    {
     "data": {
      "text/plain": [
       "0.05422857799999999"
      ]
     },
     "execution_count": 54,
     "metadata": {},
     "output_type": "execute_result"
    }
   ],
   "source": [
    "#LinearRegression\n",
    "(0.06127467+0.02974041+0.04722828+0.01792955+0.11496998)/5"
   ]
  },
  {
   "cell_type": "code",
   "execution_count": 55,
   "metadata": {},
   "outputs": [
    {
     "data": {
      "text/plain": [
       "0.054225418000000004"
      ]
     },
     "execution_count": 55,
     "metadata": {},
     "output_type": "execute_result"
    }
   ],
   "source": [
    "#Lasso\n",
    "(0.06127756+0.02973942+0.04723851+0.01792049+0.11495111)/5"
   ]
  },
  {
   "cell_type": "code",
   "execution_count": 56,
   "metadata": {},
   "outputs": [
    {
     "data": {
      "text/plain": [
       "0.019473717999999998"
      ]
     },
     "execution_count": 56,
     "metadata": {},
     "output_type": "execute_result"
    }
   ],
   "source": [
    "#RandomForestRegressor\n",
    "(0.0018608+0.04154356+0.04967076+0.00725663+0.00075844)/5"
   ]
  },
  {
   "cell_type": "code",
   "execution_count": 57,
   "metadata": {},
   "outputs": [
    {
     "data": {
      "text/plain": [
       "0.022820187999999998"
      ]
     },
     "execution_count": 57,
     "metadata": {},
     "output_type": "execute_result"
    }
   ],
   "source": [
    "#GradientBoostingRegressor\n",
    "(0.00571788+0.0347384+0.00862511+0.02709022+0.03792933)/5"
   ]
  },
  {
   "cell_type": "markdown",
   "metadata": {},
   "source": [
    "RandomForestRegressor has least difference"
   ]
  },
  {
   "cell_type": "code",
   "execution_count": 58,
   "metadata": {},
   "outputs": [],
   "source": [
    "#HYPERPARAMETER TO GET BEST PARAMETER\n",
    "from sklearn.model_selection import GridSearchCV\n",
    "parameters = { \"learning_rate\": [0.01, 0.025, 0.05, 0.1, 0.2],\n",
    "    \"min_samples_split\": np.linspace(0.1, 0.5, 1),\n",
    "    \"min_samples_leaf\": np.linspace(0.1, 0.5, 1),\n",
    "    \"max_depth\":[3,5,8],\n",
    "    \"max_features\":[\"log2\",\"sqrt\"],\n",
    "    \"subsample\":[0.5, 0.6, 0.8, 1.0],\n",
    "    \"n_estimators\":[10,100,1000]}\n",
    "grid = GridSearchCV(GradientBoostingRegressor(), param_grid = parameters, cv = 5, scoring = \"r2\")\n"
   ]
  },
  {
   "cell_type": "code",
   "execution_count": 59,
   "metadata": {},
   "outputs": [],
   "source": [
    "from sklearn.model_selection import GridSearchCV\n",
    "parameters = {'max_features': ['auto', 'sqrt','log2'],'n_estimators': [10, 100, 200, 500],'bootstrap':[True],'max_depth': [1, 23, 45],'min_samples_split': [5, 10]}\n",
    "grid = GridSearchCV(RandomForestRegressor(), param_grid = parameters, cv = 5, scoring = \"r2\")"
   ]
  },
  {
   "cell_type": "code",
   "execution_count": 60,
   "metadata": {},
   "outputs": [
    {
     "name": "stdout",
     "output_type": "stream",
     "text": [
      "Best_parameters {'bootstrap': True, 'max_depth': 45, 'max_features': 'log2', 'min_samples_split': 5, 'n_estimators': 500}\n"
     ]
    }
   ],
   "source": [
    "xtrain,xtest,ytrain,ytest=train_test_split(x,y,test_size=0.25,random_state=1)\n",
    "grid.fit(xtrain,ytrain)\n",
    "\n",
    "print(\"Best_parameters\",grid.best_params_)"
   ]
  },
  {
   "cell_type": "code",
   "execution_count": 61,
   "metadata": {},
   "outputs": [],
   "source": [
    "x=scaled\n",
    "y=y1"
   ]
  },
  {
   "cell_type": "code",
   "execution_count": 62,
   "metadata": {},
   "outputs": [
    {
     "name": "stdout",
     "output_type": "stream",
     "text": [
      "Accuracy 72.0\n",
      "Mean absolute error 140663.60207107532\n",
      "Mean squared error 64585326210.1786\n",
      "Root Mean squared error 254136.43227640266\n",
      "r2 score 72.0\n"
     ]
    }
   ],
   "source": [
    "#TUNING THE MODEL WITH BEST PARAMETERS\n",
    "xtrain,xtest,ytrain,ytest=train_test_split(x,y,test_size=0.25,random_state=7)\n",
    "from sklearn.metrics import mean_absolute_error,mean_squared_error,r2_score,accuracy_score\n",
    "model=RandomForestRegressor(n_estimators=500,max_features='auto',bootstrap=True,max_depth=23,min_samples_split=5)\n",
    "model.fit(xtrain,ytrain)\n",
    "p=model.predict(xtest)\n",
    "acc=model.score(xtest,ytest)\n",
    "mae=mean_absolute_error(p,ytest)\n",
    "mse=mean_squared_error(p,ytest)\n",
    "rmse=np.sqrt(mean_squared_error(p,ytest))\n",
    "r2=r2_score(ytest,p)\n",
    "print('Accuracy',(round(acc,2))*100)\n",
    "print('Mean absolute error',mae)\n",
    "print('Mean squared error',mse)\n",
    "print('Root Mean squared error',rmse)\n",
    "print('r2 score',(round(r2,2))*100)\n",
    "     "
   ]
  },
  {
   "cell_type": "markdown",
   "metadata": {},
   "source": [
    "After hyper tuning accuracy is increased to 72%"
   ]
  },
  {
   "cell_type": "code",
   "execution_count": null,
   "metadata": {},
   "outputs": [],
   "source": []
  },
  {
   "cell_type": "code",
   "execution_count": null,
   "metadata": {},
   "outputs": [],
   "source": []
  },
  {
   "cell_type": "code",
   "execution_count": null,
   "metadata": {},
   "outputs": [],
   "source": []
  }
 ],
 "metadata": {
  "kernelspec": {
   "display_name": "Python 3",
   "language": "python",
   "name": "python3"
  },
  "language_info": {
   "codemirror_mode": {
    "name": "ipython",
    "version": 3
   },
   "file_extension": ".py",
   "mimetype": "text/x-python",
   "name": "python",
   "nbconvert_exporter": "python",
   "pygments_lexer": "ipython3",
   "version": "3.7.6"
  }
 },
 "nbformat": 4,
 "nbformat_minor": 4
}
